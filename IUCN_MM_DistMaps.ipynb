{
 "cells": [
  {
   "cell_type": "markdown",
   "metadata": {},
   "source": [
    "# Plotting species distribution areas (IUCN spatial data)"
   ]
  },
  {
   "cell_type": "markdown",
   "metadata": {},
   "source": [
    "## Imports"
   ]
  },
  {
   "cell_type": "markdown",
   "metadata": {},
   "source": [
    "### Libraries"
   ]
  },
  {
   "cell_type": "code",
   "execution_count": 1,
   "metadata": {},
   "outputs": [],
   "source": [
    "import numpy as np\n",
    "import geopandas as gpd\n",
    "from matplotlib import pyplot as plt\n",
    "\n",
    "%matplotlib widget"
   ]
  },
  {
   "cell_type": "markdown",
   "metadata": {},
   "source": [
    "### Data"
   ]
  },
  {
   "cell_type": "code",
   "execution_count": 2,
   "metadata": {},
   "outputs": [],
   "source": [
    "shp = gpd.read_file('/Users/bell/OneDrive - Instituto Politecnico Nacional/Rscripts/Mapas/MARINE_MAMMALS/MARINE_MAMMALS.shp')\n",
    "#shore = gpd.read_file('/Users/bell/OneDrive - Instituto Politecnico Nacional/Rscripts/Mapas/gshhg-shp/GSHHS_shp/i/GSHHS_i_L1.shp')\n",
    "#shp.head()"
   ]
  },
  {
   "cell_type": "markdown",
   "metadata": {},
   "source": [
    "## Custom Functions"
   ]
  },
  {
   "cell_type": "code",
   "execution_count": 3,
   "metadata": {},
   "outputs": [],
   "source": [
    "def RGB(rgb_code):\n",
    "    \"\"\"Transforms 0-255 rgb colors to 0-1 scale\"\"\"\n",
    "    col = tuple(x/255 for x in rgb_code)\n",
    "    return col"
   ]
  },
  {
   "cell_type": "code",
   "execution_count": 4,
   "metadata": {},
   "outputs": [],
   "source": [
    "def get_ranges(species, shp, drop_columns = None):\n",
    "    \"\"\"Returns a list of simplifyied distribution data from a shape downloaded from the IUCN. \n",
    "       Arguments:\n",
    "       species: a list of binomial species names to get the distributions from\n",
    "       shp: the shapefile variable containing the distribution ranges\n",
    "       drop_columns: Columns with attributes to drop from the original shapefile, if None, no columns are dropped\"\"\"\n",
    "    #ranges = list()\n",
    "    if drop_columns == None:\n",
    "        ranges = [shp[shp.binomial == sp] for sp in species]\n",
    "        #for i,sp in set(enumerate(species)):\n",
    "        #    ranges.append(shp[shp.binomial == sp])\n",
    "    else:\n",
    "        #shp = shp.drop(columns = drop_columns)\n",
    "        ranges = [shp[shp.binomial == sp].drop(columns = drop_columns) for sp in species]\n",
    "        #for i,sp in set(enumerate(species)):\n",
    "        #    ranges.append(shp[shp.binomial == sp])\n",
    "        \n",
    "    \n",
    "    return ranges"
   ]
  },
  {
   "cell_type": "code",
   "execution_count": 5,
   "metadata": {},
   "outputs": [],
   "source": [
    "def plot_dist_ranges(ranges, colors, shore = None, extent = None):\n",
    "    \"\"\"Plots the distribution ranges of the species contained in the ranges variable.\n",
    "        Arguments:\n",
    "        ranges: A list in which each element corresponds to a distribution range (geometry) and attributes from distribution data downloadaded from the IUCN\n",
    "        colors: A list of colors for each species. If None, defaults to the 'cool' colormap.\n",
    "        shore: Variable storing the coastline\n",
    "        extent: A list with the limits of the plot, in the form: [x_inf, x_sup, y_inf, y_sup]\"\"\"\n",
    "    font = {'family': 'Montserrat',\n",
    "            'weight': 500}\n",
    "    plt.rcParams['font.family'] = font['family']\n",
    "    plt.rcParams['font.weight'] = font['weight']\n",
    "    #plt.rcParams[]\n",
    "    #font = 'Montserrat-Regular'\n",
    "    #color = (27/255,109/255,183/255)\n",
    "    fig = plt.figure(figsize = (8,5))\n",
    "    ax = plt.gca()\n",
    "\n",
    "    for i,r in list(enumerate(ranges)):\n",
    "        r.plot(alpha = 0.35, ax = ax, color = colors[i])\n",
    "    if shore == None:\n",
    "        world = gpd.read_file(gpd.datasets.get_path('naturalearth_lowres'))\n",
    "        world.plot(color = 'lightslategray', alpha = 0.5, ax = ax)\n",
    "    else:\n",
    "        shore.plot(color = 'lightslategray', alpha = 0.5, ax = ax)\n",
    "    plt.tight_layout()\n",
    "    for spine in ax.spines.values():\n",
    "        spine.set_visible(False)\n",
    "\n",
    "    ax.tick_params(axis        = 'both',\n",
    "                   which       = 'both',\n",
    "                   bottom      = False,\n",
    "                   top         = False,\n",
    "                   left        = False,\n",
    "                   labelleft   = True,\n",
    "                   labelbottom = True)\n",
    "    if extent == None:\n",
    "        extent = [-180, 180, -90, 90]\n",
    "        plt.axis(extent)\n",
    "        plt.yticks(np.arange(-80,120,40))\n",
    "    else:\n",
    "        long_range = abs(extent[0] - extent[1])/4\n",
    "        plt.yticks(np.linspace(extent[0], extent[1], 4))\n",
    "        \n",
    "    plt.xlabel('Longitud (º)')\n",
    "    plt.ylabel('Latitud (º)')\n",
    "    plt.labelweight = font['weight']"
   ]
  },
  {
   "cell_type": "markdown",
   "metadata": {},
   "source": [
    "## Extracting and plotting the data"
   ]
  },
  {
   "cell_type": "code",
   "execution_count": 6,
   "metadata": {},
   "outputs": [],
   "source": [
    "species = ['Stenella attenuata', 'Stenella longirostris']\n",
    "drop_columns = ['id_no','presence', 'origin', 'source', 'seasonal', 'compiler', 'yrcompiled',\n",
    "                'citation', 'dist_comm', 'island', 'subspecies', 'subpop', 'tax_comm', 'kingdom',\n",
    "                'phylum', 'class', 'order_', 'family', 'genus', 'category', 'marine', 'terrestial', 'freshwater']\n",
    "ranges = get_ranges(species, shp, drop_columns)"
   ]
  },
  {
   "cell_type": "code",
   "execution_count": 7,
   "metadata": {},
   "outputs": [
    {
     "data": {
      "application/vnd.jupyter.widget-view+json": {
       "model_id": "8b0ad661e09246e7866056a805ac560d",
       "version_major": 2,
       "version_minor": 0
      },
      "text/plain": [
       "Canvas(toolbar=Toolbar(toolitems=[('Home', 'Reset original view', 'home', 'home'), ('Back', 'Back to previous …"
      ]
     },
     "metadata": {},
     "output_type": "display_data"
    }
   ],
   "source": [
    "#colors = ['gold', (27/255,109/255,183/255)]\n",
    "colors = [RGB((121,227,249)), RGB((27,109,183)), 'firebrick']\n",
    "#extent = [-116,-112, 26, 33]\n",
    "plot_dist_ranges(ranges, colors);"
   ]
  },
  {
   "cell_type": "code",
   "execution_count": 48,
   "metadata": {},
   "outputs": [],
   "source": [
    "plt.savefig('DistSASL.jpg', bbox_inches = 'tight', pad_inches = 0.1, transparent = False, dpi = 300)"
   ]
  },
  {
   "cell_type": "code",
   "execution_count": null,
   "metadata": {},
   "outputs": [],
   "source": []
  }
 ],
 "metadata": {
  "kernelspec": {
   "display_name": "Python 3",
   "language": "python",
   "name": "python3"
  },
  "language_info": {
   "codemirror_mode": {
    "name": "ipython",
    "version": 3
   },
   "file_extension": ".py",
   "mimetype": "text/x-python",
   "name": "python",
   "nbconvert_exporter": "python",
   "pygments_lexer": "ipython3",
   "version": "3.8.2"
  },
  "toc-autonumbering": true
 },
 "nbformat": 4,
 "nbformat_minor": 4
}
