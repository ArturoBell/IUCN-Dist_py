{
 "cells": [
  {
   "cell_type": "markdown",
   "metadata": {},
   "source": [
    "# Plotting species distribution areas (IUCN spatial data)"
   ]
  },
  {
   "cell_type": "markdown",
   "metadata": {},
   "source": [
    "## Imports"
   ]
  },
  {
   "cell_type": "markdown",
   "metadata": {},
   "source": [
    "### Libraries"
   ]
  },
  {
   "cell_type": "code",
   "execution_count": 1,
   "metadata": {},
   "outputs": [],
   "source": [
    "import numpy as np\n",
    "import geopandas as gpd\n",
    "from matplotlib import pyplot as plt\n",
    "\n",
    "%matplotlib widget"
   ]
  },
  {
   "cell_type": "markdown",
   "metadata": {},
   "source": [
    "### Data\n",
    "First, let's load the shapefile containing the distribution data for marine mammals (IUCN data)."
   ]
  },
  {
   "cell_type": "code",
   "execution_count": 2,
   "metadata": {},
   "outputs": [],
   "source": [
    "shp = gpd.read_file('./MARINE_MAMMALS/MARINE_MAMMALS.shp')\n",
    "#shore = gpd.read_file('./GSHHS_shp/i/GSHHS_i_L1.shp') # In case you want a custom coastline\n",
    "#shp.head()"
   ]
  },
  {
   "cell_type": "markdown",
   "metadata": {},
   "source": [
    "## Custom Functions"
   ]
  },
  {
   "cell_type": "code",
   "execution_count": 3,
   "metadata": {},
   "outputs": [],
   "source": [
    "def RGB(rgb_code):\n",
    "    \"\"\"Transforms 0-255 rgb colors to 0-1 scale\"\"\"\n",
    "    col = tuple(x/255 for x in rgb_code)\n",
    "    return col"
   ]
  },
  {
   "cell_type": "code",
   "execution_count": 4,
   "metadata": {},
   "outputs": [],
   "source": [
    "def get_ranges(species, shp, drop_columns = None):\n",
    "    \"\"\"Returns a list of simplifyied distribution data from a shape downloaded from the IUCN. \n",
    "       Arguments:\n",
    "       species: a list of binomial species names to get the distributions from\n",
    "       shp: the shapefile variable containing the distribution ranges\n",
    "       drop_columns: Columns with attributes to drop from the original shapefile, if None, no columns are dropped\"\"\"\n",
    "\n",
    "    if drop_columns == None:\n",
    "        ranges = [shp[shp.binomial == sp] for sp in species]\n",
    "\n",
    "    else:\n",
    "        ranges = [shp[shp.binomial == sp].drop(columns = drop_columns) for sp in species]      \n",
    "    \n",
    "    return ranges"
   ]
  },
  {
   "cell_type": "code",
   "execution_count": 5,
   "metadata": {},
   "outputs": [],
   "source": [
    "def plot_dist_ranges(ranges, colors = None, shore = None, extent = None):\n",
    "    \"\"\"Plots the distribution ranges of the species contained in the ranges variable.\n",
    "        Arguments:\n",
    "        ranges: A list in which each element corresponds to a distribution range (geometry) and attributes from distribution data downloadaded from the IUCN\n",
    "        colors: A list of colors for each species. If None, default blue is used.\n",
    "        shore: Variable storing the coastline\n",
    "        extent: A list with the limits of the plot, in the form: [x_inf, x_sup, y_inf, y_sup]\"\"\"\n",
    "    # Setting the font of the plot. \n",
    "    font = {'family': 'Times',\n",
    "            'weight': 500}\n",
    "    plt.rcParams['font.family'] = font['family']\n",
    "    plt.rcParams['font.weight'] = font['weight']\n",
    "    \n",
    "    # Plot environment\n",
    "    fig = plt.figure(figsize = (8,5))\n",
    "    ax = plt.gca()\n",
    "    \n",
    "    # Plotting the distributions\n",
    "    if colors == None:\n",
    "        for i,r in list(enumerate(ranges)):\n",
    "            r.plot(alpha = 0.35, ax = ax)\n",
    "    else:\n",
    "        for i,r in list(enumerate(ranges)):\n",
    "            r.plot(alpha = 0.35, ax = ax, color = colors[i])\n",
    "            \n",
    "    # Plotting the coastline\n",
    "    if shore == None:\n",
    "        world = gpd.read_file(gpd.datasets.get_path('naturalearth_lowres'))\n",
    "        world.plot(color = 'lightslategray', alpha = 0.5, ax = ax)\n",
    "    else:\n",
    "        shore.plot(color = 'lightslategray', alpha = 0.5, ax = ax)\n",
    "    \n",
    "    # Cleaning the plot\n",
    "    plt.tight_layout()\n",
    "    for spine in ax.spines.values():\n",
    "        spine.set_visible(False)\n",
    "\n",
    "    ax.tick_params(axis        = 'both',\n",
    "                   which       = 'both',\n",
    "                   bottom      = False,\n",
    "                   top         = False,\n",
    "                   left        = False,\n",
    "                   labelleft   = True,\n",
    "                   labelbottom = True)\n",
    "    \n",
    "    # Changing the tickmarks of the y axis\n",
    "    if extent == None:\n",
    "        extent = [-180, 180, -90, 90]\n",
    "        plt.axis(extent)\n",
    "        plt.yticks(np.arange(-80,120,40))\n",
    "    else:\n",
    "        long_range = abs(extent[0] - extent[1])/4\n",
    "        plt.yticks(np.linspace(extent[0], extent[1], 4))\n",
    "    \n",
    "    # Changing the axes labels\n",
    "    plt.xlabel('Longitude (º)')\n",
    "    plt.ylabel('Latitude (º)')\n",
    "    plt.labelweight = font['weight']"
   ]
  },
  {
   "cell_type": "markdown",
   "metadata": {},
   "source": [
    "## Extracting and plotting the data\n",
    "As an example, the distributions of *Stenella attenuata* and *Stenella longirostris* are plotted."
   ]
  },
  {
   "cell_type": "code",
   "execution_count": 6,
   "metadata": {},
   "outputs": [],
   "source": [
    "species = ['Stenella attenuata', 'Stenella longirostris']\n",
    "drop_columns = ['id_no','presence', 'origin', 'source', 'seasonal', 'compiler', 'yrcompiled',\n",
    "                'citation', 'dist_comm', 'island', 'subspecies', 'subpop', 'tax_comm', 'kingdom',\n",
    "                'phylum', 'class', 'order_', 'family', 'genus', 'category', 'marine', 'terrestial', 'freshwater']\n",
    "ranges = get_ranges(species, shp, drop_columns)"
   ]
  },
  {
   "cell_type": "code",
   "execution_count": 7,
   "metadata": {},
   "outputs": [
    {
     "data": {
      "application/vnd.jupyter.widget-view+json": {
       "model_id": "f11e1b8a165d47859d7ea7b125f350ae",
       "version_major": 2,
       "version_minor": 0
      },
      "text/plain": [
       "Canvas(toolbar=Toolbar(toolitems=[('Home', 'Reset original view', 'home', 'home'), ('Back', 'Back to previous …"
      ]
     },
     "metadata": {},
     "output_type": "display_data"
    }
   ],
   "source": [
    "colors = [RGB((121,227,249)), RGB((27,109,183))]\n",
    "plot_dist_ranges(ranges, colors);"
   ]
  },
  {
   "cell_type": "code",
   "execution_count": 10,
   "metadata": {},
   "outputs": [],
   "source": [
    "#plt.savefig('Dist.jpg', bbox_inches = 'tight', pad_inches = 0.1, transparent = False, dpi = 300)"
   ]
  }
 ],
 "metadata": {
  "kernelspec": {
   "display_name": "Python 3",
   "language": "python",
   "name": "python3"
  },
  "language_info": {
   "codemirror_mode": {
    "name": "ipython",
    "version": 3
   },
   "file_extension": ".py",
   "mimetype": "text/x-python",
   "name": "python",
   "nbconvert_exporter": "python",
   "pygments_lexer": "ipython3",
   "version": "3.8.2"
  },
  "toc-autonumbering": true
 },
 "nbformat": 4,
 "nbformat_minor": 4
}
